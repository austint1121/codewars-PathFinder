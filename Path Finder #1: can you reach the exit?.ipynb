{
 "cells": [
  {
   "cell_type": "markdown",
   "metadata": {
    "collapsed": true,
    "pycharm": {
     "name": "#%% md\n"
    }
   },
   "source": [
    "# [Can You Reach the Exit?](https://www.codewars.com/kata/5765870e190b1472ec0022a2)\n",
    "## Task\n",
    "You are at position [0, 0] in maze NxN and you can only move in one of the four cardinal directions (i.e. North, East, South, West). Return true if you can reach position [N-1, N-1] or false otherwise.\n",
    "\n",
    "- Empty positions are marked `.`\n",
    "- Walls are marked `W`\n",
    "- Start and exit positions are empty in all test cases."
   ]
  },
  {
   "cell_type": "code",
   "execution_count": 6,
   "outputs": [
    {
     "name": "stdout",
     "output_type": "stream",
     "text": [
      ".W...\n",
      ".W...\n",
      ".W.W.\n",
      "...WW\n",
      "...W.\n"
     ]
    }
   ],
   "source": [
    "# For reference lets print what this will \"look\" like\n",
    "a = \"\\n\".join([\n",
    "    \".W...\",\n",
    "    \".W...\",\n",
    "    \".W.W.\",\n",
    "    \"...WW\",\n",
    "    \"...W.\"])\n",
    "print(a)"
   ],
   "metadata": {
    "collapsed": false,
    "pycharm": {
     "name": "#%%\n"
    }
   }
  },
  {
   "cell_type": "markdown",
   "source": [],
   "metadata": {
    "collapsed": false,
    "pycharm": {
     "name": "#%% md\n"
    }
   }
  },
  {
   "cell_type": "markdown",
   "source": [
    "We \"start\" at (0,0) and need to determine if it's possible to reach the last point in the maze (N-1, N-1). So this is question will require a [maze solving](https://en.wikipedia.org/wiki/Maze-solving_algorithm) algorithm."
   ],
   "metadata": {
    "collapsed": false,
    "pycharm": {
     "name": "#%% md\n"
    }
   }
  },
  {
   "cell_type": "markdown",
   "source": [
    "# Wall Follower Method\n",
    "Let's try and create a basic AI to solve a maze."
   ],
   "metadata": {
    "collapsed": false,
    "pycharm": {
     "name": "#%% md\n"
    }
   }
  },
  {
   "cell_type": "code",
   "execution_count": 75,
   "outputs": [],
   "source": [
    "class Mouse:\n",
    "    \"\"\"Mouse to solve the maze\"\"\"\n",
    "    def __init__(self):\n",
    "        self.X = 0\n",
    "        self.Y = 0\n",
    "        self.success = False\n",
    "        self.array_maze = []\n",
    "\n",
    "    def solve(self, maze):\n",
    "        \"\"\"Method to begin the loop to follow the maze\"\"\"\n",
    "        fsplit = a.split(\"\\n\") # Split the list by newlines\n",
    "        for items in fsplit: # Loop through split list and turn into an array\n",
    "            templist = []\n",
    "            for chars in items:\n",
    "                templist.append(chars)\n",
    "            self.array_maze.append(templist)\n",
    "\n",
    "    def North(self):\n",
    "        \"\"\"Moves mouse 1 unit north\"\"\"\n",
    "        if self.X - 1 < 0:\n",
    "            raise Exception(f'Out of bounds, mouse tried to move North at ({self.X}, {self.Y})')\n",
    "        else:\n",
    "            self.X -= 1\n",
    "\n",
    "    def East(self):\n",
    "        \"\"\"Moves mouse 1 unit East\"\"\"\n",
    "        if self.Y + 1 > len(self.array_maze[0])-1:\n",
    "            raise Exception(f'Out of bounds, mouse tried to move East at ({self.X}, {self.Y})')\n",
    "        else:\n",
    "            self.Y += 1\n",
    "\n",
    "\n",
    "    def South(self):\n",
    "        \"\"\"Moves mouse 1 unit South\"\"\"\n",
    "        if self.X + 1 > len(self.array_maze[0])-1:\n",
    "            raise Exception(f'Out of bounds, mouse tried to move South at ({self.X}, {self.Y})')\n",
    "        else:\n",
    "            self.X += 1\n",
    "\n",
    "    def West(self):\n",
    "        \"\"\"Moves mouse 1 unit West\"\"\"\n",
    "        if self.Y - 1 < 0:\n",
    "            raise Exception(f'Out of bounds, mouse tried to move West at ({self.X}, {self.Y})')\n",
    "        else:\n",
    "            self.Y += 1\n"
   ],
   "metadata": {
    "collapsed": false,
    "pycharm": {
     "name": "#%%\n"
    }
   }
  },
  {
   "cell_type": "code",
   "execution_count": 76,
   "outputs": [],
   "source": [
    "mousey = Mouse()"
   ],
   "metadata": {
    "collapsed": false,
    "pycharm": {
     "name": "#%%\n"
    }
   }
  },
  {
   "cell_type": "code",
   "source": [
    "mousey.solve(a)"
   ],
   "metadata": {
    "collapsed": false,
    "pycharm": {
     "name": "#%%\n"
    }
   },
   "execution_count": 77,
   "outputs": []
  },
  {
   "cell_type": "code",
   "execution_count": 78,
   "outputs": [
    {
     "data": {
      "text/plain": "[['.', 'W', '.', '.', '.'],\n ['.', 'W', '.', '.', '.'],\n ['.', 'W', '.', 'W', '.'],\n ['.', '.', '.', 'W', 'W'],\n ['.', '.', '.', 'W', '.']]"
     },
     "execution_count": 78,
     "metadata": {},
     "output_type": "execute_result"
    }
   ],
   "source": [
    "mousey.array_maze"
   ],
   "metadata": {
    "collapsed": false,
    "pycharm": {
     "name": "#%%\n"
    }
   }
  },
  {
   "cell_type": "code",
   "source": [],
   "metadata": {
    "collapsed": false,
    "pycharm": {
     "name": "#%%\n"
    }
   },
   "execution_count": 74,
   "outputs": [
    {
     "ename": "Exception",
     "evalue": "Out of bounds, mouse tried to move East at (0, 5)",
     "output_type": "error",
     "traceback": [
      "\u001B[0;31m---------------------------------------------------------------------------\u001B[0m",
      "\u001B[0;31mException\u001B[0m                                 Traceback (most recent call last)",
      "\u001B[0;32m<ipython-input-74-6fa8e202343d>\u001B[0m in \u001B[0;36m<module>\u001B[0;34m\u001B[0m\n\u001B[0;32m----> 1\u001B[0;31m \u001B[0mmousey\u001B[0m\u001B[0;34m.\u001B[0m\u001B[0mEast\u001B[0m\u001B[0;34m(\u001B[0m\u001B[0;34m)\u001B[0m\u001B[0;34m\u001B[0m\u001B[0;34m\u001B[0m\u001B[0m\n\u001B[0m\u001B[1;32m      2\u001B[0m \u001B[0mmousey\u001B[0m\u001B[0;34m.\u001B[0m\u001B[0mY\u001B[0m\u001B[0;34m\u001B[0m\u001B[0;34m\u001B[0m\u001B[0m\n",
      "\u001B[0;32m<ipython-input-65-17dccd129184>\u001B[0m in \u001B[0;36mEast\u001B[0;34m(self)\u001B[0m\n\u001B[1;32m     26\u001B[0m         \u001B[0;34m\"\"\"Moves mouse 1 unit East\"\"\"\u001B[0m\u001B[0;34m\u001B[0m\u001B[0;34m\u001B[0m\u001B[0m\n\u001B[1;32m     27\u001B[0m         \u001B[0;32mif\u001B[0m \u001B[0mself\u001B[0m\u001B[0;34m.\u001B[0m\u001B[0mY\u001B[0m \u001B[0;34m+\u001B[0m \u001B[0;36m1\u001B[0m \u001B[0;34m>\u001B[0m \u001B[0mlen\u001B[0m\u001B[0;34m(\u001B[0m\u001B[0mself\u001B[0m\u001B[0;34m.\u001B[0m\u001B[0marray_maze\u001B[0m\u001B[0;34m[\u001B[0m\u001B[0;36m0\u001B[0m\u001B[0;34m]\u001B[0m\u001B[0;34m)\u001B[0m\u001B[0;34m:\u001B[0m\u001B[0;34m\u001B[0m\u001B[0;34m\u001B[0m\u001B[0m\n\u001B[0;32m---> 28\u001B[0;31m             \u001B[0;32mraise\u001B[0m \u001B[0mException\u001B[0m\u001B[0;34m(\u001B[0m\u001B[0;34mf'Out of bounds, mouse tried to move East at ({self.X}, {self.Y})'\u001B[0m\u001B[0;34m)\u001B[0m\u001B[0;34m\u001B[0m\u001B[0;34m\u001B[0m\u001B[0m\n\u001B[0m\u001B[1;32m     29\u001B[0m         \u001B[0;32melse\u001B[0m\u001B[0;34m:\u001B[0m\u001B[0;34m\u001B[0m\u001B[0;34m\u001B[0m\u001B[0m\n\u001B[1;32m     30\u001B[0m             \u001B[0mself\u001B[0m\u001B[0;34m.\u001B[0m\u001B[0mY\u001B[0m \u001B[0;34m+=\u001B[0m \u001B[0;36m1\u001B[0m\u001B[0;34m\u001B[0m\u001B[0;34m\u001B[0m\u001B[0m\n",
      "\u001B[0;31mException\u001B[0m: Out of bounds, mouse tried to move East at (0, 5)"
     ]
    }
   ]
  },
  {
   "cell_type": "code",
   "execution_count": 64,
   "outputs": [],
   "source": [],
   "metadata": {
    "collapsed": false,
    "pycharm": {
     "name": "#%%\n"
    }
   }
  },
  {
   "cell_type": "code",
   "execution_count": null,
   "outputs": [],
   "source": [],
   "metadata": {
    "collapsed": false,
    "pycharm": {
     "name": "#%%\n"
    }
   }
  }
 ],
 "metadata": {
  "kernelspec": {
   "display_name": "Python 3",
   "language": "python",
   "name": "python3"
  },
  "language_info": {
   "codemirror_mode": {
    "name": "ipython",
    "version": 2
   },
   "file_extension": ".py",
   "mimetype": "text/x-python",
   "name": "python",
   "nbconvert_exporter": "python",
   "pygments_lexer": "ipython2",
   "version": "2.7.6"
  }
 },
 "nbformat": 4,
 "nbformat_minor": 0
}