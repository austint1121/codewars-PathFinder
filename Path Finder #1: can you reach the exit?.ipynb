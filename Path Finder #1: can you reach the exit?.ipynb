{
 "cells": [
  {
   "cell_type": "markdown",
   "metadata": {
    "collapsed": true,
    "pycharm": {
     "name": "#%% md\n"
    }
   },
   "source": [
    "# [Can You Reach the Exit?](https://www.codewars.com/kata/5765870e190b1472ec0022a2)\n",
    "## Task\n",
    "You are at position [0, 0] in maze NxN and you can only move in one of the four cardinal directions (i.e. North, East, South, West). Return true if you can reach position [N-1, N-1] or false otherwise.\n",
    "\n",
    "- Empty positions are marked `.`\n",
    "- Walls are marked `W`\n",
    "- Start and exit positions are empty in all test cases."
   ]
  },
  {
   "cell_type": "code",
   "execution_count": 16,
   "outputs": [
    {
     "name": "stdout",
     "output_type": "stream",
     "text": [
      ".W...\n",
      ".W...\n",
      ".W.W.\n",
      "...WW\n",
      "...W.\n"
     ]
    }
   ],
   "source": [
    "# For reference lets print what this will \"look\" like\n",
    "a = \"\\n\".join([\n",
    "    \".W...\",\n",
    "    \".W...\",\n",
    "    \".W.W.\",\n",
    "    \"...WW\",\n",
    "    \"...W.\"])\n",
    "print(a)"
   ],
   "metadata": {
    "collapsed": false,
    "pycharm": {
     "name": "#%%\n"
    }
   }
  },
  {
   "cell_type": "markdown",
   "source": [],
   "metadata": {
    "collapsed": false,
    "pycharm": {
     "name": "#%% md\n"
    }
   }
  },
  {
   "cell_type": "markdown",
   "source": [
    "We \"start\" at (0,0) and need to determine if it's possible to reach the last point in the maze (N-1, N-1). So this is question will require a [maze solving](https://en.wikipedia.org/wiki/Maze-solving_algorithm) algorithm."
   ],
   "metadata": {
    "collapsed": false,
    "pycharm": {
     "name": "#%% md\n"
    }
   }
  },
  {
   "cell_type": "markdown",
   "source": [
    "# Wall Follower Method\n",
    "Let's try and create a basic AI to solve a maze."
   ],
   "metadata": {
    "collapsed": false,
    "pycharm": {
     "name": "#%% md\n"
    }
   }
  },
  {
   "cell_type": "code",
   "execution_count": 100,
   "outputs": [],
   "source": [
    "class Mouse:\n",
    "    \"\"\"Mouse to solve the maze\"\"\"\n",
    "    def __init__(self):\n",
    "        self.X = 0\n",
    "        self.Y = 0\n",
    "        self.success = False\n",
    "        self.array_maze = []\n",
    "        self.visited = []\n",
    "\n",
    "    def create_arr_maze(self, maze):\n",
    "        \"\"\"Method to begin the loop to follow the maze\"\"\"\n",
    "        fsplit = maze.split(\"\\n\") # Split the list by newlines\n",
    "        for items in fsplit: # Loop through split list and turn into an array\n",
    "            templist = []\n",
    "            for chars in items:\n",
    "                templist.append(chars)\n",
    "            self.array_maze.append(templist)\n",
    "\n",
    "    def North(self):\n",
    "        \"\"\"Moves mouse 1 unit north\"\"\"\n",
    "        if self.X - 1 < 0:\n",
    "            raise Exception(f'Out of bounds, mouse tried to move North at ({self.X}, {self.Y})')\n",
    "        else:\n",
    "            self.visited.append((self.X, self.Y))\n",
    "            self.X -= 1\n",
    "\n",
    "    def East(self):\n",
    "        \"\"\"Moves mouse 1 unit East\"\"\"\n",
    "        if self.Y + 1 > len(self.array_maze[0])-1:\n",
    "            raise Exception(f'Out of bounds, mouse tried to move East at ({self.X}, {self.Y})')\n",
    "        else:\n",
    "            self.visited.append((self.X, self.Y))\n",
    "            self.Y += 1\n",
    "\n",
    "\n",
    "    def South(self):\n",
    "        \"\"\"Moves mouse 1 unit South\"\"\"\n",
    "        if self.X + 1 > len(self.array_maze[0])-1:\n",
    "            raise Exception(f'Out of bounds, mouse tried to move South at ({self.X}, {self.Y})')\n",
    "        else:\n",
    "            self.visited.append((self.X, self.Y))\n",
    "            self.X += 1\n",
    "\n",
    "\n",
    "    def West(self):\n",
    "        \"\"\"Moves mouse 1 unit West\"\"\"\n",
    "        if self.Y - 1 < 0:\n",
    "            raise Exception(f'Out of bounds, mouse tried to move West at ({self.X}, {self.Y})')\n",
    "        else:\n",
    "            self.visited.append((self.X, self.Y))\n",
    "            self.Y -= 1\n",
    "\n",
    "    def open_pos(self):\n",
    "        # Returns dictionary of possible openings\n",
    "        open_positions = {}\n",
    "\n",
    "        # North\n",
    "        if self.X == 0:\n",
    "            open_positions['North'] = False\n",
    "        else:\n",
    "            if self.array_maze[self.X - 1][self.Y] == 'W':\n",
    "                open_positions['North'] = False\n",
    "            else:\n",
    "                open_positions['North'] = (self.X - 1, self.Y)\n",
    "\n",
    "        # East\n",
    "        if self.Y + 1 > len(self.array_maze[0])-1:\n",
    "            open_positions['East'] = False\n",
    "        else:\n",
    "            if self.array_maze[self.X][self.Y + 1] == 'W':\n",
    "                open_positions['East'] = False\n",
    "            else:\n",
    "                open_positions['East'] = (self.X, self.Y + 1)\n",
    "\n",
    "        # South\n",
    "        if self.X + 1 > len(self.array_maze[0])-1:\n",
    "            open_positions['South'] = False\n",
    "        else:\n",
    "            if self.array_maze[self.X + 1][self.Y] == 'W':\n",
    "                open_positions['South'] = False\n",
    "            else:\n",
    "                open_positions['South'] = (self.X + 1, self.Y)\n",
    "\n",
    "        # West\n",
    "        if self.Y == 0 :\n",
    "            open_positions['West'] = False\n",
    "        else:\n",
    "            if self.array_maze[self.X][self.Y - 1] == 'W':\n",
    "                open_positions['West'] = False\n",
    "            else:\n",
    "                open_positions['West'] = (self.X, self.Y - 1)\n",
    "        return open_positions\n",
    "\n",
    "    def solve(self):\n",
    "        # While not at\n",
    "        while self.X != len(self.array_maze[0]) - 1 or self.Y != len(self.array_maze)-1:\n",
    "            print(self.X, self.Y)\n",
    "            open_spots = self.open_pos()\n",
    "            southern_spot = open_spots['South']\n",
    "            eastern_spot = open_spots['East']\n",
    "            northern_spot = open_spots['North']\n",
    "            western_spot = open_spots['West']\n",
    "            if southern_spot and southern_spot not in self.visited:\n",
    "                self.South()\n",
    "            else:\n",
    "                if eastern_spot and eastern_spot not in self.visited:\n",
    "                    self.East()\n",
    "                else:\n",
    "                    if northern_spot and northern_spot not in self.visited:\n",
    "                        self.North()\n",
    "                    else:\n",
    "                        if western_spot and western_spot not in self.visited:\n",
    "                            self.West()\n",
    "                        else:\n",
    "                            if self.X == len(self.array_maze[0])-1:\n",
    "                                self.visited.append((self.X, self.Y))\n",
    "                                self.X -= 1\n",
    "                            else:\n",
    "                                self.visited.append((self.X, self.Y))\n",
    "                                return False\n",
    "        self.visited.append((self.X, self.Y))\n",
    "        return True\n",
    "\n",
    "    def visualize(self):\n",
    "        \"\"\"Method to visualize path taken\"\"\"\n",
    "        visited = self.visited\n",
    "        maze = self.array_maze\n",
    "        for items in visited:\n",
    "            maze[items[0]][items[1]] = 'X'\n",
    "        return maze\n",
    "\n",
    "def pathfinder(maze):\n",
    "    # Instantiate object\n",
    "    mousey = Mouse()\n",
    "    # Transform maze\n",
    "    mousey.create_arr_maze(maze)\n",
    "    # Solve Maze\n",
    "    return mousey.solve()"
   ],
   "metadata": {
    "collapsed": false,
    "pycharm": {
     "name": "#%%\n"
    }
   }
  },
  {
   "cell_type": "code",
   "execution_count": null,
   "outputs": [],
   "source": [
    "# Instansiate object\n",
    "mousey = Mouse()\n",
    "# Transform maze\n",
    "mousey.create_arr_maze(a)\n",
    "# Visualize Maze\n",
    "mousey.array_maze"
   ],
   "metadata": {
    "collapsed": false,
    "pycharm": {
     "name": "#%%\n"
    }
   }
  },
  {
   "cell_type": "code",
   "execution_count": null,
   "outputs": [],
   "source": [
    "# Is maze solvable?\n",
    "mousey.solve()"
   ],
   "metadata": {
    "collapsed": false,
    "pycharm": {
     "name": "#%%\n"
    }
   }
  },
  {
   "cell_type": "code",
   "execution_count": 30,
   "outputs": [
    {
     "data": {
      "text/plain": "[['X', 'W', '.', '.', '.'],\n ['X', 'W', 'X', 'X', 'X'],\n ['X', 'W', 'X', 'W', 'X'],\n ['X', '.', 'X', 'W', 'W'],\n ['X', 'X', 'X', 'W', '.']]"
     },
     "execution_count": 30,
     "metadata": {},
     "output_type": "execute_result"
    }
   ],
   "source": [
    "# Where did you go?\n",
    "mousey.visualize()"
   ],
   "metadata": {
    "collapsed": false,
    "pycharm": {
     "name": "#%%\n"
    }
   }
  },
  {
   "cell_type": "markdown",
   "source": [
    "### Second Test"
   ],
   "metadata": {
    "collapsed": false,
    "pycharm": {
     "name": "#%% md\n"
    }
   }
  },
  {
   "cell_type": "code",
   "execution_count": 21,
   "outputs": [],
   "source": [
    "test2 = \"\\n\".join([\n",
    "    \".W...\",\n",
    "    \".W...\",\n",
    "    \".W.W.\",\n",
    "    \"...W.\",\n",
    "    \"...W.\"])"
   ],
   "metadata": {
    "collapsed": false,
    "pycharm": {
     "name": "#%%\n"
    }
   }
  },
  {
   "cell_type": "code",
   "execution_count": 22,
   "outputs": [],
   "source": [
    "# Create 2nd mouse\n",
    "mousey2 = Mouse()\n",
    "# Transform maze\n",
    "mousey2.create_arr_maze(test2)"
   ],
   "metadata": {
    "collapsed": false,
    "pycharm": {
     "name": "#%%\n"
    }
   }
  },
  {
   "cell_type": "code",
   "execution_count": 23,
   "outputs": [
    {
     "data": {
      "text/plain": "[['.', 'W', '.', '.', '.'],\n ['.', 'W', '.', '.', '.'],\n ['.', 'W', '.', 'W', '.'],\n ['.', '.', '.', 'W', '.'],\n ['.', '.', '.', 'W', '.']]"
     },
     "execution_count": 23,
     "metadata": {},
     "output_type": "execute_result"
    }
   ],
   "source": [
    "mousey2.array_maze"
   ],
   "metadata": {
    "collapsed": false,
    "pycharm": {
     "name": "#%%\n"
    }
   }
  },
  {
   "cell_type": "code",
   "execution_count": 24,
   "outputs": [
    {
     "data": {
      "text/plain": "True"
     },
     "execution_count": 24,
     "metadata": {},
     "output_type": "execute_result"
    }
   ],
   "source": [
    "mousey2.solve()"
   ],
   "metadata": {
    "collapsed": false,
    "pycharm": {
     "name": "#%%\n"
    }
   }
  },
  {
   "cell_type": "code",
   "execution_count": 25,
   "outputs": [
    {
     "data": {
      "text/plain": "[['X', 'W', '.', '.', '.'],\n ['X', 'W', 'X', 'X', 'X'],\n ['X', 'W', 'X', 'W', 'X'],\n ['X', '.', 'X', 'W', 'X'],\n ['X', 'X', 'X', 'W', 'X']]"
     },
     "execution_count": 25,
     "metadata": {},
     "output_type": "execute_result"
    }
   ],
   "source": [
    "mousey2.visualize()"
   ],
   "metadata": {
    "collapsed": false,
    "pycharm": {
     "name": "#%%\n"
    }
   }
  },
  {
   "cell_type": "code",
   "execution_count": 31,
   "outputs": [
    {
     "data": {
      "text/plain": "False"
     },
     "execution_count": 31,
     "metadata": {},
     "output_type": "execute_result"
    }
   ],
   "source": [
    "# Final check of the pathfinder() method\n",
    "pathfinder(a)"
   ],
   "metadata": {
    "collapsed": false,
    "pycharm": {
     "name": "#%%\n"
    }
   }
  },
  {
   "cell_type": "markdown",
   "source": [
    "## Debugging"
   ],
   "metadata": {
    "collapsed": false,
    "pycharm": {
     "name": "#%% md\n"
    }
   }
  },
  {
   "cell_type": "code",
   "execution_count": 101,
   "outputs": [],
   "source": [
    "bugged_mouse = Mouse()\n",
    "bugged_mouse.array_maze = [['.', 'W', 'W', '.', 'W', '.'], ['.', '.', '.', 'W', '.', 'W'], ['.', 'W', '.', '.', 'W', 'W'], ['.', '.', '.', '.', '.', '.'], ['.', 'W', '.', '.', '.', '.'], ['.', 'W', 'W', '.', '.', '.']]"
   ],
   "metadata": {
    "collapsed": false,
    "pycharm": {
     "name": "#%%\n"
    }
   }
  },
  {
   "cell_type": "code",
   "execution_count": 102,
   "outputs": [
    {
     "name": "stdout",
     "output_type": "stream",
     "text": [
      "0 0\n",
      "1 0\n",
      "2 0\n",
      "3 0\n",
      "4 0\n",
      "5 0\n",
      "4 0\n"
     ]
    },
    {
     "data": {
      "text/plain": "False"
     },
     "execution_count": 102,
     "metadata": {},
     "output_type": "execute_result"
    }
   ],
   "source": [
    "bugged_mouse.solve()"
   ],
   "metadata": {
    "collapsed": false,
    "pycharm": {
     "name": "#%%\n"
    }
   }
  },
  {
   "cell_type": "code",
   "execution_count": 103,
   "outputs": [
    {
     "data": {
      "text/plain": "[['X', 'W', 'W', '.', 'W', '.'],\n ['X', '.', '.', 'W', '.', 'W'],\n ['X', 'W', '.', '.', 'W', 'W'],\n ['X', '.', '.', '.', '.', '.'],\n ['X', 'W', '.', '.', '.', '.'],\n ['X', 'W', 'W', '.', '.', '.']]"
     },
     "execution_count": 103,
     "metadata": {},
     "output_type": "execute_result"
    }
   ],
   "source": [
    "## The algorithm is running into a wall, and won't backtrack, adding backtracking for Southern movement\n",
    "bugged_mouse.visualize()"
   ],
   "metadata": {
    "collapsed": false,
    "pycharm": {
     "name": "#%%\n"
    }
   }
  },
  {
   "cell_type": "code",
   "execution_count": 104,
   "outputs": [],
   "source": [
    "bugged_mouse2 = Mouse()\n",
    "bugged_mouse2.array_maze = [['.', '.', '.', '.'], ['W', '.', '.', '.'], ['.', '.', '.', 'W'], ['W', '.', 'W', '.']]"
   ],
   "metadata": {
    "collapsed": false,
    "pycharm": {
     "name": "#%%\n"
    }
   }
  },
  {
   "cell_type": "code",
   "execution_count": 105,
   "outputs": [
    {
     "data": {
      "text/plain": "[['.', '.', '.', '.'],\n ['W', '.', '.', '.'],\n ['.', '.', '.', 'W'],\n ['W', '.', 'W', '.']]"
     },
     "execution_count": 105,
     "metadata": {},
     "output_type": "execute_result"
    }
   ],
   "source": [
    "bugged_mouse2.array_maze"
   ],
   "metadata": {
    "collapsed": false,
    "pycharm": {
     "name": "#%%\n"
    }
   }
  },
  {
   "cell_type": "code",
   "execution_count": 106,
   "outputs": [
    {
     "name": "stdout",
     "output_type": "stream",
     "text": [
      "0 0\n",
      "0 1\n",
      "1 1\n",
      "2 1\n",
      "3 1\n",
      "2 1\n",
      "2 2\n",
      "1 2\n",
      "1 3\n",
      "0 3\n",
      "0 2\n"
     ]
    },
    {
     "data": {
      "text/plain": "False"
     },
     "execution_count": 106,
     "metadata": {},
     "output_type": "execute_result"
    }
   ],
   "source": [
    "bugged_mouse2.solve()"
   ],
   "metadata": {
    "collapsed": false,
    "pycharm": {
     "name": "#%%\n"
    }
   }
  },
  {
   "cell_type": "code",
   "execution_count": 107,
   "outputs": [
    {
     "data": {
      "text/plain": "[['X', 'X', 'X', 'X'],\n ['W', 'X', 'X', 'X'],\n ['.', 'X', 'X', 'W'],\n ['W', 'X', 'W', '.']]"
     },
     "execution_count": 107,
     "metadata": {},
     "output_type": "execute_result"
    }
   ],
   "source": [
    "bugged_mouse2.visualize()"
   ],
   "metadata": {
    "collapsed": false,
    "pycharm": {
     "name": "#%%\n"
    }
   }
  }
 ],
 "metadata": {
  "kernelspec": {
   "display_name": "Python 3",
   "language": "python",
   "name": "python3"
  },
  "language_info": {
   "codemirror_mode": {
    "name": "ipython",
    "version": 2
   },
   "file_extension": ".py",
   "mimetype": "text/x-python",
   "name": "python",
   "nbconvert_exporter": "python",
   "pygments_lexer": "ipython2",
   "version": "2.7.6"
  }
 },
 "nbformat": 4,
 "nbformat_minor": 0
}