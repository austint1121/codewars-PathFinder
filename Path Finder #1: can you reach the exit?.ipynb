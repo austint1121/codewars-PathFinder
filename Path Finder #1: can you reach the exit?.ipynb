{
 "cells": [
  {
   "cell_type": "markdown",
   "metadata": {
    "collapsed": true,
    "pycharm": {
     "name": "#%% md\n"
    }
   },
   "source": [
    "# [Can You Reach the Exit?](https://www.codewars.com/kata/5765870e190b1472ec0022a2)\n",
    "## Task\n",
    "You are at position [0, 0] in maze NxN and you can only move in one of the four cardinal directions (i.e. North, East, South, West). Return true if you can reach position [N-1, N-1] or false otherwise.\n",
    "\n",
    "- Empty positions are marked `.`\n",
    "- Walls are marked `W`\n",
    "- Start and exit positions are empty in all test cases."
   ]
  },
  {
   "cell_type": "code",
   "execution_count": 246,
   "outputs": [],
   "source": [
    "# For reference lets print what this will \"look\" like\n",
    "a = \"\\n\".join([\n",
    "    \".W...\",\n",
    "    \".W...\",\n",
    "    \".W.W.\",\n",
    "    \"...W.\",\n",
    "    \"...W.\"])"
   ],
   "metadata": {
    "collapsed": false,
    "pycharm": {
     "name": "#%%\n"
    }
   }
  },
  {
   "cell_type": "code",
   "execution_count": 206,
   "outputs": [
    {
     "data": {
      "text/plain": "['.W...', '.W...', '.W.W.', '...WW', '...W.']"
     },
     "execution_count": 206,
     "metadata": {},
     "output_type": "execute_result"
    }
   ],
   "source": [
    "test = a.split()\n",
    "test"
   ],
   "metadata": {
    "collapsed": false,
    "pycharm": {
     "name": "#%%\n"
    }
   }
  },
  {
   "cell_type": "code",
   "execution_count": 207,
   "outputs": [
    {
     "data": {
      "text/plain": "'W'"
     },
     "execution_count": 207,
     "metadata": {},
     "output_type": "execute_result"
    }
   ],
   "source": [
    "test[0][1]"
   ],
   "metadata": {
    "collapsed": false,
    "pycharm": {
     "name": "#%%\n"
    }
   }
  },
  {
   "cell_type": "markdown",
   "source": [],
   "metadata": {
    "collapsed": false,
    "pycharm": {
     "name": "#%% md\n"
    }
   }
  },
  {
   "cell_type": "markdown",
   "source": [
    "We \"start\" at (0,0) and need to determine if it's possible to reach the last point in the maze (N-1, N-1). So this is question will require a [maze solving](https://en.wikipedia.org/wiki/Maze-solving_algorithm) algorithm."
   ],
   "metadata": {
    "collapsed": false,
    "pycharm": {
     "name": "#%% md\n"
    }
   }
  },
  {
   "cell_type": "markdown",
   "source": [
    "# Search All Method\n",
    "Let's try and create a basic AI to solve a maze."
   ],
   "metadata": {
    "collapsed": false,
    "pycharm": {
     "name": "#%% md\n"
    }
   }
  },
  {
   "cell_type": "code",
   "execution_count": 251,
   "outputs": [],
   "source": [
    "class Mouse:\n",
    "    \"\"\"Mouse to solve the maze\"\"\"\n",
    "    def __init__(self):\n",
    "        self.X = 0\n",
    "        self.Y = 0\n",
    "        self.success = False\n",
    "        self.array_maze = []\n",
    "        self.visited = []\n",
    "        self.potential = []\n",
    "\n",
    "    def create_arr_maze(self, maze):\n",
    "        \"\"\"Method to begin the loop to follow the maze\"\"\"\n",
    "        fsplit = maze.split(\"\\n\") # Split the list by newlines\n",
    "        for items in fsplit: # Loop through split list and turn into an array\n",
    "            templist = []\n",
    "            for chars in items:\n",
    "                templist.append(chars)\n",
    "            self.array_maze.append(templist)\n",
    "\n",
    "    def North(self):\n",
    "        \"\"\"Moves mouse 1 unit north\"\"\"\n",
    "        if self.X - 1 < 0:\n",
    "            raise Exception(f'Out of bounds, mouse tried to move North at ({self.X}, {self.Y})')\n",
    "        else:\n",
    "            self.visited.append((self.X, self.Y))\n",
    "            self.X -= 1\n",
    "\n",
    "    def East(self):\n",
    "        \"\"\"Moves mouse 1 unit East\"\"\"\n",
    "        if self.Y + 1 > len(self.array_maze)-1:\n",
    "            raise Exception(f'Out of bounds, mouse tried to move East at ({self.X}, {self.Y})')\n",
    "        else:\n",
    "            self.visited.append((self.X, self.Y))\n",
    "            self.Y += 1\n",
    "\n",
    "\n",
    "    def South(self):\n",
    "        \"\"\"Moves mouse 1 unit South\"\"\"\n",
    "        if self.X + 1 > len(self.array_maze)-1:\n",
    "            raise Exception(f'Out of bounds, mouse tried to move South at ({self.X}, {self.Y})')\n",
    "        else:\n",
    "            self.visited.append((self.X, self.Y))\n",
    "            self.X += 1\n",
    "\n",
    "\n",
    "    def West(self):\n",
    "        \"\"\"Moves mouse 1 unit West\"\"\"\n",
    "        if self.Y - 1 < 0:\n",
    "            raise Exception(f'Out of bounds, mouse tried to move West at ({self.X}, {self.Y})')\n",
    "        else:\n",
    "            self.visited.append((self.X, self.Y))\n",
    "            self.Y -= 1\n",
    "\n",
    "    def open_pos(self):\n",
    "        # Returns dictionary of possible openings\n",
    "        open_positions = {}\n",
    "        num_positions = 0\n",
    "\n",
    "        # North\n",
    "        potential_position = (self.X - 1, self.Y)\n",
    "        if self.X == 0 or potential_position in self.visited:\n",
    "            open_positions['North'] = False\n",
    "        else:\n",
    "            if self.array_maze[self.X - 1][self.Y] == 'W':\n",
    "                open_positions['North'] = False\n",
    "            else:\n",
    "                open_positions['North'] = potential_position\n",
    "                num_positions += 1\n",
    "\n",
    "        # East\n",
    "        potential_position = (self.X, self.Y + 1)\n",
    "        if self.Y + 1 > len(self.array_maze)-1 or potential_position in self.visited:\n",
    "            open_positions['East'] = False\n",
    "        else:\n",
    "            if self.array_maze[self.X][self.Y + 1] == 'W':\n",
    "                open_positions['East'] = False\n",
    "            else:\n",
    "                open_positions['East'] = potential_position\n",
    "                num_positions += 1\n",
    "\n",
    "        # South\n",
    "        potential_position = self.X + 1, self.Y\n",
    "        if self.X + 1 > len(self.array_maze)-1 or potential_position in self.visited:\n",
    "            open_positions['South'] = False\n",
    "        else:\n",
    "            if self.array_maze[self.X + 1][self.Y] == 'W':\n",
    "                open_positions['South'] = False\n",
    "            else:\n",
    "                open_positions['South'] = potential_position\n",
    "                num_positions += 1\n",
    "\n",
    "        # West\n",
    "        potential_position = (self.X, self.Y - 1)\n",
    "        if self.Y == 0 or potential_position in self.visited:\n",
    "            open_positions['West'] = False\n",
    "        else:\n",
    "            if self.array_maze[self.X][self.Y - 1] == 'W':\n",
    "                open_positions['West'] = False\n",
    "            else:\n",
    "                open_positions['West'] = potential_position\n",
    "                num_positions += 1\n",
    "        return open_positions, num_positions\n",
    "\n",
    "    def solve(self):\n",
    "        # While not at\n",
    "        while self.X != len(self.array_maze) - 1 or self.Y != len(self.array_maze)-1:\n",
    "            open_spots, num_spots = self.open_pos()\n",
    "            # If there is more then 1 path, save the position\n",
    "            if num_spots > 1:\n",
    "                self.potential.append((self.X, self.Y))\n",
    "\n",
    "            southern_spot = open_spots['South']\n",
    "            eastern_spot = open_spots['East']\n",
    "            northern_spot = open_spots['North']\n",
    "            western_spot = open_spots['West']\n",
    "            if southern_spot:\n",
    "                self.South()\n",
    "            else:\n",
    "                if eastern_spot:\n",
    "                    self.East()\n",
    "                else:\n",
    "                    if northern_spot:\n",
    "                        self.North()\n",
    "                    else:\n",
    "                        if western_spot:\n",
    "                            self.West()\n",
    "                        else:\n",
    "                            # If there are any POTENTIAL positions left\n",
    "                            if self.potential:\n",
    "                                self.visited.append((self.X, self.Y))\n",
    "                                # Revert to the last node with more then 1 branch\n",
    "                                reverting = self.potential.pop(-1)\n",
    "                                self.X = reverting[0]\n",
    "                                self.Y = reverting[1]\n",
    "                            else:\n",
    "                                self.visited.append((self.X, self.Y))\n",
    "                                return False\n",
    "        self.visited.append((self.X, self.Y))\n",
    "        return True\n",
    "\n",
    "    def visualize(self):\n",
    "        \"\"\"Method to visualize path taken\"\"\"\n",
    "        visited = self.visited\n",
    "        maze = self.array_maze\n",
    "        for items in visited:\n",
    "            maze[items[0]][items[1]] = 'X'\n",
    "        return maze\n",
    "\n",
    "def path_finder(maze):\n",
    "    # Instantiate object\n",
    "    mousey = Mouse()\n",
    "    mousey.create_arr_maze(maze)\n",
    "    # Solve Maze\n",
    "    return mousey.solve()"
   ],
   "metadata": {
    "collapsed": false,
    "pycharm": {
     "name": "#%%\n"
    }
   }
  },
  {
   "cell_type": "code",
   "execution_count": 251,
   "outputs": [],
   "source": [],
   "metadata": {
    "collapsed": false,
    "pycharm": {
     "name": "#%%\n"
    }
   }
  },
  {
   "cell_type": "code",
   "execution_count": 252,
   "outputs": [
    {
     "data": {
      "text/plain": "[['.', 'W', '.', '.', '.'],\n ['.', 'W', '.', '.', '.'],\n ['.', 'W', '.', 'W', '.'],\n ['.', '.', '.', 'W', '.'],\n ['.', '.', '.', 'W', '.']]"
     },
     "execution_count": 252,
     "metadata": {},
     "output_type": "execute_result"
    }
   ],
   "source": [
    "# Instansiate object\n",
    "mousey = Mouse()\n",
    "# Transform maze\n",
    "mousey.create_arr_maze(a)\n",
    "# Visualize Maze\n",
    "mousey.array_maze"
   ],
   "metadata": {
    "collapsed": false,
    "pycharm": {
     "name": "#%%\n"
    }
   }
  },
  {
   "cell_type": "code",
   "execution_count": 253,
   "outputs": [
    {
     "data": {
      "text/plain": "True"
     },
     "execution_count": 253,
     "metadata": {},
     "output_type": "execute_result"
    }
   ],
   "source": [
    "# Is maze solvable?\n",
    "mousey.solve()"
   ],
   "metadata": {
    "collapsed": false,
    "pycharm": {
     "name": "#%%\n"
    }
   }
  },
  {
   "cell_type": "code",
   "execution_count": 254,
   "outputs": [
    {
     "data": {
      "text/plain": "[['X', 'W', '.', '.', '.'],\n ['X', 'W', 'X', 'X', 'X'],\n ['X', 'W', 'X', 'W', 'X'],\n ['X', '.', 'X', 'W', 'X'],\n ['X', 'X', 'X', 'W', 'X']]"
     },
     "execution_count": 254,
     "metadata": {},
     "output_type": "execute_result"
    }
   ],
   "source": [
    "# Where did you go?\n",
    "mousey.visualize()"
   ],
   "metadata": {
    "collapsed": false,
    "pycharm": {
     "name": "#%%\n"
    }
   }
  },
  {
   "cell_type": "code",
   "execution_count": 229,
   "outputs": [
    {
     "data": {
      "text/plain": "[(0, 0),\n (1, 0),\n (2, 0),\n (3, 0),\n (4, 0),\n (4, 1),\n (4, 2),\n (3, 2),\n (2, 2),\n (1, 2),\n (1, 3),\n (1, 4),\n (2, 4),\n (1, 4),\n (0, 4),\n (0, 3),\n (0, 2),\n (1, 3),\n (1, 2),\n (3, 2),\n (3, 1),\n (4, 2),\n (4, 1),\n (4, 0),\n (3, 0)]"
     },
     "execution_count": 229,
     "metadata": {},
     "output_type": "execute_result"
    }
   ],
   "source": [
    "mousey.visited"
   ],
   "metadata": {
    "collapsed": false,
    "pycharm": {
     "name": "#%%\n"
    }
   }
  },
  {
   "cell_type": "markdown",
   "source": [
    "### Second Test"
   ],
   "metadata": {
    "collapsed": false,
    "pycharm": {
     "name": "#%% md\n"
    }
   }
  },
  {
   "cell_type": "code",
   "execution_count": null,
   "outputs": [],
   "source": [
    "test2 = \"\\n\".join([\n",
    "    \".W...\",\n",
    "    \".W...\",\n",
    "    \".W.W.\",\n",
    "    \"...W.\",\n",
    "    \"...W.\"])"
   ],
   "metadata": {
    "collapsed": false,
    "pycharm": {
     "name": "#%%\n"
    }
   }
  },
  {
   "cell_type": "code",
   "execution_count": null,
   "outputs": [],
   "source": [
    "# Create 2nd mouse\n",
    "mousey2 = Mouse()\n",
    "# Transform maze\n",
    "mousey2.create_arr_maze(test2)"
   ],
   "metadata": {
    "collapsed": false,
    "pycharm": {
     "name": "#%%\n"
    }
   }
  },
  {
   "cell_type": "code",
   "execution_count": null,
   "outputs": [],
   "source": [
    "mousey2.array_maze"
   ],
   "metadata": {
    "collapsed": false,
    "pycharm": {
     "name": "#%%\n"
    }
   }
  },
  {
   "cell_type": "code",
   "execution_count": null,
   "outputs": [],
   "source": [
    "mousey2.solve()"
   ],
   "metadata": {
    "collapsed": false,
    "pycharm": {
     "name": "#%%\n"
    }
   }
  },
  {
   "cell_type": "code",
   "execution_count": null,
   "outputs": [],
   "source": [
    "mousey2.visualize()"
   ],
   "metadata": {
    "collapsed": false,
    "pycharm": {
     "name": "#%%\n"
    }
   }
  },
  {
   "cell_type": "code",
   "execution_count": null,
   "outputs": [],
   "source": [
    "# Final check of the pathfinder() method\n",
    "pathfinder(a)"
   ],
   "metadata": {
    "collapsed": false,
    "pycharm": {
     "name": "#%%\n"
    }
   }
  },
  {
   "cell_type": "markdown",
   "source": [
    "## Debugging"
   ],
   "metadata": {
    "collapsed": false,
    "pycharm": {
     "name": "#%% md\n"
    }
   }
  },
  {
   "cell_type": "code",
   "execution_count": 212,
   "outputs": [],
   "source": [
    "bugged_mouse = Mouse()\n",
    "bugged_mouse.array_maze = [['.', '.', '.', '.', 'W', '.', '.', 'W', '.', '.'], ['.', 'W', '.', '.', '.', 'W', '.', 'W', '.', '.'], ['W', '.', 'W', 'W', '.', '.', 'W', '.', '.', 'W'], ['.', '.', '.', '.', '.', 'W', '.', 'W', '.', '.'], ['.', 'W', 'W', '.', '.', '.', '.', '.', '.', 'W'], ['W', '.', '.', '.', 'W', '.', '.', '.', '.', '.'], ['.', '.', '.', '.', '.', 'W', '.', '.', 'W', '.'], ['.', 'W', '.', 'W', '.', '.', '.', '.', '.', '.'], ['.', '.', '.', '.', '.', '.', 'W', 'W', '.', '.'], ['.', '.', 'W', 'W', '.', '.', 'W', '.', 'W', '.']]"
   ],
   "metadata": {
    "collapsed": false,
    "pycharm": {
     "name": "#%%\n"
    }
   }
  },
  {
   "cell_type": "code",
   "execution_count": 213,
   "outputs": [
    {
     "name": "stdout",
     "output_type": "stream",
     "text": [
      "maze solving took 0.0002338886260986328 ms\n"
     ]
    },
    {
     "data": {
      "text/plain": "True"
     },
     "execution_count": 213,
     "metadata": {},
     "output_type": "execute_result"
    }
   ],
   "source": [
    "bugged_mouse.solve()"
   ],
   "metadata": {
    "collapsed": false,
    "pycharm": {
     "name": "#%%\n"
    }
   }
  },
  {
   "cell_type": "code",
   "execution_count": 214,
   "outputs": [
    {
     "data": {
      "text/plain": "[['X', 'X', 'X', '.', 'W', '.', '.', 'W', '.', '.'],\n ['X', 'W', 'X', 'X', 'X', 'W', '.', 'W', '.', '.'],\n ['W', '.', 'W', 'W', 'X', '.', 'W', '.', '.', 'W'],\n ['.', '.', '.', '.', 'X', 'W', '.', 'W', '.', '.'],\n ['.', 'W', 'W', '.', 'X', 'X', '.', '.', '.', 'W'],\n ['W', '.', '.', '.', 'W', 'X', 'X', '.', '.', '.'],\n ['.', '.', '.', '.', '.', 'W', 'X', '.', 'W', '.'],\n ['.', 'W', '.', 'W', '.', '.', 'X', 'X', 'X', '.'],\n ['.', '.', '.', '.', '.', '.', 'W', 'W', 'X', 'X'],\n ['.', '.', 'W', 'W', '.', '.', 'W', '.', 'W', 'X']]"
     },
     "execution_count": 214,
     "metadata": {},
     "output_type": "execute_result"
    }
   ],
   "source": [
    "## The algorithm is running into a wall, and won't backtrack, adding backtracking\n",
    "bugged_mouse.visualize()"
   ],
   "metadata": {
    "collapsed": false,
    "pycharm": {
     "name": "#%%\n"
    }
   }
  },
  {
   "cell_type": "code",
   "execution_count": 215,
   "outputs": [
    {
     "data": {
      "text/plain": "[(0, 0),\n (1, 0),\n (0, 0),\n (0, 1),\n (0, 2),\n (1, 2),\n (1, 3),\n (1, 4),\n (2, 4),\n (3, 4),\n (4, 4),\n (4, 5),\n (5, 5),\n (5, 6),\n (6, 6),\n (7, 6),\n (7, 7),\n (7, 8),\n (8, 8),\n (8, 9),\n (9, 9)]"
     },
     "execution_count": 215,
     "metadata": {},
     "output_type": "execute_result"
    }
   ],
   "source": [
    "bugged_mouse.visited"
   ],
   "metadata": {
    "collapsed": false,
    "pycharm": {
     "name": "#%%\n"
    }
   }
  },
  {
   "cell_type": "code",
   "execution_count": null,
   "outputs": [],
   "source": [],
   "metadata": {
    "collapsed": false,
    "pycharm": {
     "name": "#%%\n"
    }
   }
  }
 ],
 "metadata": {
  "kernelspec": {
   "display_name": "Python 3",
   "language": "python",
   "name": "python3"
  },
  "language_info": {
   "codemirror_mode": {
    "name": "ipython",
    "version": 2
   },
   "file_extension": ".py",
   "mimetype": "text/x-python",
   "name": "python",
   "nbconvert_exporter": "python",
   "pygments_lexer": "ipython2",
   "version": "2.7.6"
  }
 },
 "nbformat": 4,
 "nbformat_minor": 0
}