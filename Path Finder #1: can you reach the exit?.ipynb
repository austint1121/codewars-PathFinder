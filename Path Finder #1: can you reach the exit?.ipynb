{
 "cells": [
  {
   "cell_type": "markdown",
   "metadata": {
    "collapsed": true,
    "pycharm": {
     "name": "#%% md\n"
    }
   },
   "source": [
    "# [Can You Reach the Exit?](https://www.codewars.com/kata/5765870e190b1472ec0022a2)\n",
    "## Task\n",
    "You are at position [0, 0] in maze NxN and you can only move in one of the four cardinal directions (i.e. North, East, South, West). Return true if you can reach position [N-1, N-1] or false otherwise.\n",
    "\n",
    "- Empty positions are marked `.`\n",
    "- Walls are marked `W`\n",
    "- Start and exit positions are empty in all test cases."
   ]
  },
  {
   "cell_type": "code",
   "execution_count": 292,
   "outputs": [],
   "source": [
    "# For reference lets print what this will \"look\" like\n",
    "a = \"\\n\".join([\n",
    "    \".W...\",\n",
    "    \".W...\",\n",
    "    \".W.W.\",\n",
    "    \"...W.\",\n",
    "    \"...W.\"])\n",
    "\n",
    "b = \"\\n\".join([\n",
    "    \".W...\",\n",
    "    \".W...\",\n",
    "    \".W.W.\",\n",
    "    \"...WW\",\n",
    "    \"...W.\"])"
   ],
   "metadata": {
    "collapsed": false,
    "pycharm": {
     "name": "#%%\n"
    }
   }
  },
  {
   "cell_type": "markdown",
   "source": [],
   "metadata": {
    "collapsed": false,
    "pycharm": {
     "name": "#%% md\n"
    }
   }
  },
  {
   "cell_type": "markdown",
   "source": [
    "We \"start\" at (0,0) and need to determine if it's possible to reach the last point in the maze (N-1, N-1). So this is question will require a [maze solving](https://en.wikipedia.org/wiki/Maze-solving_algorithm) algorithm."
   ],
   "metadata": {
    "collapsed": false,
    "pycharm": {
     "name": "#%% md\n"
    }
   }
  },
  {
   "cell_type": "markdown",
   "source": [
    "# Search All Method\n",
    "Let's try and create a basic algorithm to solve a maze."
   ],
   "metadata": {
    "collapsed": false,
    "pycharm": {
     "name": "#%% md\n"
    }
   }
  },
  {
   "cell_type": "code",
   "execution_count": 293,
   "outputs": [],
   "source": [
    "class Mouse:\n",
    "    \"\"\"Mouse to solve the maze\"\"\"\n",
    "    def __init__(self):\n",
    "        self.X = 0 # current X position\n",
    "        self.Y = 0 # Current Y position\n",
    "        self.array_maze = [] # An array representation of the maze, mostly for display purposes.\n",
    "        self.visited = set() # Collection of visited coordinates\n",
    "        self.potential = [] # Positions where there was more then 1 possible path\n",
    "\n",
    "    def create_arr_maze(self, maze):\n",
    "        \"\"\"Method to begin the loop to follow the maze\"\"\"\n",
    "        fsplit = maze.split(\"\\n\") # Split the list by newlines\n",
    "        for items in fsplit: # Loop through split list and turn into an array\n",
    "            templist = []\n",
    "            for chars in items:\n",
    "                templist.append(chars)\n",
    "            self.array_maze.append(templist)\n",
    "\n",
    "    def North(self):\n",
    "        \"\"\"Moves mouse 1 unit north\"\"\"\n",
    "        self.visited.add((self.X, self.Y))\n",
    "        self.X -= 1\n",
    "\n",
    "    def East(self):\n",
    "        \"\"\"Moves mouse 1 unit East\"\"\"\n",
    "        self.visited.add((self.X, self.Y))\n",
    "        self.Y += 1\n",
    "\n",
    "\n",
    "    def South(self):\n",
    "        \"\"\"Moves mouse 1 unit South\"\"\"\n",
    "        self.visited.add((self.X, self.Y))\n",
    "        self.X += 1\n",
    "\n",
    "\n",
    "    def West(self):\n",
    "        \"\"\"Moves mouse 1 unit West\"\"\"\n",
    "        self.visited.add((self.X, self.Y))\n",
    "        self.Y -= 1\n",
    "\n",
    "    def open_pos(self):\n",
    "        # Returns dictionary of possible openings\n",
    "        open_positions = {}\n",
    "        num_positions = 0\n",
    "\n",
    "        # North\n",
    "        potential_position = (self.X - 1, self.Y)\n",
    "        # Check if the potential position is an edge, or has been visited already.\n",
    "        if self.X == 0 or potential_position in self.visited: #\n",
    "            open_positions['North'] = False\n",
    "        else:\n",
    "            # Check if position is a wall\n",
    "            if self.array_maze[self.X - 1][self.Y] == 'W':\n",
    "                open_positions['North'] = False\n",
    "            else:\n",
    "                # If not an edge, been visited, or a wall, added an a potential move.\n",
    "                open_positions['North'] = potential_position\n",
    "                num_positions += 1\n",
    "\n",
    "        # East\n",
    "        potential_position = (self.X, self.Y + 1)\n",
    "        # Check if the potential position is an edge, or has been visited already.\n",
    "        if self.Y + 1 > len(self.array_maze)-1 or potential_position in self.visited:\n",
    "            open_positions['East'] = False\n",
    "        else:\n",
    "            # Check if position is a wall\n",
    "            if self.array_maze[self.X][self.Y + 1] == 'W':\n",
    "                open_positions['East'] = False\n",
    "            else:\n",
    "                # If not an edge, been visited, or a wall, added an a potential move.\n",
    "                open_positions['East'] = potential_position\n",
    "                num_positions += 1\n",
    "\n",
    "        # South\n",
    "        potential_position = self.X + 1, self.Y\n",
    "        # Check if the potential position is an edge, or has been visited already.\n",
    "        if self.X + 1 > len(self.array_maze)-1 or potential_position in self.visited:\n",
    "            open_positions['South'] = False\n",
    "        else:\n",
    "            # Check if position is a wall\n",
    "            if self.array_maze[self.X + 1][self.Y] == 'W':\n",
    "                open_positions['South'] = False\n",
    "            else:\n",
    "                # If not an edge, been visited, or a wall, added an a potential move.\n",
    "                open_positions['South'] = potential_position\n",
    "                num_positions += 1\n",
    "\n",
    "        # West\n",
    "        potential_position = (self.X, self.Y - 1)\n",
    "        # Check if the potential position is an edge, or has been visited already.\n",
    "        if self.Y == 0 or potential_position in self.visited:\n",
    "            open_positions['West'] = False\n",
    "        else:\n",
    "            # Check if position is a wall\n",
    "            if self.array_maze[self.X][self.Y - 1] == 'W':\n",
    "                open_positions['West'] = False\n",
    "            else:\n",
    "                # If not an edge, been visited, or a wall, added an a potential move.\n",
    "                open_positions['West'] = potential_position\n",
    "                num_positions += 1\n",
    "        return open_positions, num_positions\n",
    "\n",
    "    def solve(self):\n",
    "        # Continue loop until at the exit of the maze\n",
    "        while self.X != len(self.array_maze) - 1 or self.Y != len(self.array_maze)-1:\n",
    "            open_spots, num_spots = self.open_pos()\n",
    "            # If there is more then 1 path, save the position\n",
    "            if num_spots > 1:\n",
    "                self.potential.append((self.X, self.Y))\n",
    "\n",
    "            southern_spot = open_spots['South']\n",
    "            eastern_spot = open_spots['East']\n",
    "            northern_spot = open_spots['North']\n",
    "            western_spot = open_spots['West']\n",
    "\n",
    "            # Since the Mouse starts in the upper left, and needs to reach the bottom right, always attempt to go SOUTH then EAST first.\n",
    "            if southern_spot:\n",
    "                self.South()\n",
    "            else:\n",
    "                if eastern_spot:\n",
    "                    self.East()\n",
    "                else:\n",
    "                    if northern_spot:\n",
    "                        self.North()\n",
    "                    else:\n",
    "                        if western_spot:\n",
    "                            self.West()\n",
    "                        else:\n",
    "                            # If there are any POTENTIAL positions left revert to the last node with more then 1 branch\n",
    "                            if self.potential:\n",
    "                                self.visited.add((self.X, self.Y))\n",
    "                                reverting = self.potential.pop(-1)\n",
    "                                self.X = reverting[0]\n",
    "                                self.Y = reverting[1]\n",
    "                            else:\n",
    "                                # If no paths are available, and there are no more potential paths, the maze is unsolvable.\n",
    "                                self.visited.add((self.X, self.Y))\n",
    "                                return False\n",
    "        self.visited.add((self.X, self.Y))\n",
    "        return True\n",
    "\n",
    "    def visualize(self):\n",
    "        \"\"\"Method to visualize path taken\"\"\"\n",
    "        visited = self.visited\n",
    "        maze = self.array_maze\n",
    "        for items in visited:\n",
    "            maze[items[0]][items[1]] = 'X'\n",
    "        return maze\n",
    "\n",
    "def path_finder(maze):\n",
    "    # Instantiate object\n",
    "    mousey = Mouse()\n",
    "    mousey.create_arr_maze(maze)\n",
    "    # Solve Maze\n",
    "    return mousey.solve()"
   ],
   "metadata": {
    "collapsed": false,
    "pycharm": {
     "name": "#%%\n"
    }
   }
  },
  {
   "cell_type": "code",
   "execution_count": 294,
   "outputs": [
    {
     "data": {
      "text/plain": "False"
     },
     "execution_count": 294,
     "metadata": {},
     "output_type": "execute_result"
    }
   ],
   "source": [
    "# Instantiate object\n",
    "mousey = Mouse()\n",
    "\n",
    "# Transform maze\n",
    "mousey.create_arr_maze(b)\n",
    "\n",
    "# Is the maze solvable?\n",
    "mousey.solve()"
   ],
   "metadata": {
    "collapsed": false,
    "pycharm": {
     "name": "#%%\n"
    }
   }
  },
  {
   "cell_type": "code",
   "execution_count": 295,
   "outputs": [
    {
     "data": {
      "text/plain": "[['X', 'W', 'X', 'X', 'X'],\n ['X', 'W', 'X', 'X', 'X'],\n ['X', 'W', 'X', 'W', 'X'],\n ['X', 'X', 'X', 'W', 'W'],\n ['X', 'X', 'X', 'W', '.']]"
     },
     "execution_count": 295,
     "metadata": {},
     "output_type": "execute_result"
    }
   ],
   "source": [
    "# Where did you go?\n",
    "mousey.visualize()"
   ],
   "metadata": {
    "collapsed": false,
    "pycharm": {
     "name": "#%%\n"
    }
   }
  },
  {
   "cell_type": "markdown",
   "source": [
    "The algorithm works, but this is really a brute force method of solving it. The algorithm check all possible paths before declaring it impossible to solve, an this could lead to long execution times with bigger mazes."
   ],
   "metadata": {
    "collapsed": false,
    "pycharm": {
     "name": "#%% md\n"
    }
   }
  },
  {
   "cell_type": "markdown",
   "source": [
    "### Second Test"
   ],
   "metadata": {
    "collapsed": false,
    "pycharm": {
     "name": "#%% md\n"
    }
   }
  },
  {
   "cell_type": "code",
   "execution_count": 296,
   "outputs": [],
   "source": [
    "test2 = \"\\n\".join([\n",
    "    \".W...\",\n",
    "    \".W...\",\n",
    "    \".W.W.\",\n",
    "    \"...W.\",\n",
    "    \"...W.\"])"
   ],
   "metadata": {
    "collapsed": false,
    "pycharm": {
     "name": "#%%\n"
    }
   }
  },
  {
   "cell_type": "code",
   "execution_count": 297,
   "outputs": [],
   "source": [
    "# Create 2nd mouse\n",
    "mousey2 = Mouse()\n",
    "# Transform maze\n",
    "mousey2.create_arr_maze(test2)"
   ],
   "metadata": {
    "collapsed": false,
    "pycharm": {
     "name": "#%%\n"
    }
   }
  },
  {
   "cell_type": "code",
   "execution_count": 298,
   "outputs": [
    {
     "data": {
      "text/plain": "[['.', 'W', '.', '.', '.'],\n ['.', 'W', '.', '.', '.'],\n ['.', 'W', '.', 'W', '.'],\n ['.', '.', '.', 'W', '.'],\n ['.', '.', '.', 'W', '.']]"
     },
     "execution_count": 298,
     "metadata": {},
     "output_type": "execute_result"
    }
   ],
   "source": [
    "mousey2.array_maze"
   ],
   "metadata": {
    "collapsed": false,
    "pycharm": {
     "name": "#%%\n"
    }
   }
  },
  {
   "cell_type": "code",
   "execution_count": 299,
   "outputs": [
    {
     "data": {
      "text/plain": "True"
     },
     "execution_count": 299,
     "metadata": {},
     "output_type": "execute_result"
    }
   ],
   "source": [
    "mousey2.solve()"
   ],
   "metadata": {
    "collapsed": false,
    "pycharm": {
     "name": "#%%\n"
    }
   }
  },
  {
   "cell_type": "code",
   "execution_count": 300,
   "outputs": [
    {
     "data": {
      "text/plain": "[['X', 'W', '.', '.', '.'],\n ['X', 'W', 'X', 'X', 'X'],\n ['X', 'W', 'X', 'W', 'X'],\n ['X', '.', 'X', 'W', 'X'],\n ['X', 'X', 'X', 'W', 'X']]"
     },
     "execution_count": 300,
     "metadata": {},
     "output_type": "execute_result"
    }
   ],
   "source": [
    "mousey2.visualize()"
   ],
   "metadata": {
    "collapsed": false,
    "pycharm": {
     "name": "#%%\n"
    }
   }
  },
  {
   "cell_type": "code",
   "execution_count": 301,
   "outputs": [
    {
     "data": {
      "text/plain": "True"
     },
     "execution_count": 301,
     "metadata": {},
     "output_type": "execute_result"
    }
   ],
   "source": [
    "# Final check of the pathfinder() method\n",
    "path_finder(a)"
   ],
   "metadata": {
    "collapsed": false,
    "pycharm": {
     "name": "#%%\n"
    }
   }
  },
  {
   "cell_type": "markdown",
   "source": [
    "## Additional Test"
   ],
   "metadata": {
    "collapsed": false,
    "pycharm": {
     "name": "#%% md\n"
    }
   }
  },
  {
   "cell_type": "code",
   "execution_count": 302,
   "outputs": [],
   "source": [
    "bugged_mouse = Mouse()\n",
    "bugged_mouse.array_maze = [['.', '.', '.', '.', 'W', '.', '.', 'W', '.', '.'], ['.', 'W', '.', '.', '.', 'W', '.', 'W', '.', '.'], ['W', '.', 'W', 'W', '.', '.', 'W', '.', '.', 'W'], ['.', '.', '.', '.', '.', 'W', '.', 'W', '.', '.'], ['.', 'W', 'W', '.', '.', '.', '.', '.', '.', 'W'], ['W', '.', '.', '.', 'W', '.', '.', '.', '.', '.'], ['.', '.', '.', '.', '.', 'W', '.', '.', 'W', '.'], ['.', 'W', '.', 'W', '.', '.', '.', '.', '.', '.'], ['.', '.', '.', '.', '.', '.', 'W', 'W', '.', '.'], ['.', '.', 'W', 'W', '.', '.', 'W', '.', 'W', '.']]"
   ],
   "metadata": {
    "collapsed": false,
    "pycharm": {
     "name": "#%%\n"
    }
   }
  },
  {
   "cell_type": "code",
   "execution_count": 303,
   "outputs": [
    {
     "data": {
      "text/plain": "True"
     },
     "execution_count": 303,
     "metadata": {},
     "output_type": "execute_result"
    }
   ],
   "source": [
    "bugged_mouse.solve()"
   ],
   "metadata": {
    "collapsed": false,
    "pycharm": {
     "name": "#%%\n"
    }
   }
  },
  {
   "cell_type": "code",
   "execution_count": 304,
   "outputs": [
    {
     "data": {
      "text/plain": "[['X', 'X', 'X', '.', 'W', '.', '.', 'W', '.', '.'],\n ['X', 'W', 'X', 'X', 'X', 'W', '.', 'W', '.', '.'],\n ['W', '.', 'W', 'W', 'X', '.', 'W', '.', '.', 'W'],\n ['.', '.', '.', '.', 'X', 'W', '.', 'W', '.', '.'],\n ['.', 'W', 'W', '.', 'X', 'X', '.', '.', '.', 'W'],\n ['W', '.', '.', '.', 'W', 'X', 'X', '.', '.', '.'],\n ['.', '.', '.', '.', '.', 'W', 'X', '.', 'W', '.'],\n ['.', 'W', '.', 'W', '.', '.', 'X', 'X', 'X', '.'],\n ['.', '.', '.', '.', '.', '.', 'W', 'W', 'X', 'X'],\n ['.', '.', 'W', 'W', '.', '.', 'W', '.', 'W', 'X']]"
     },
     "execution_count": 304,
     "metadata": {},
     "output_type": "execute_result"
    }
   ],
   "source": [
    "\n",
    "bugged_mouse.visualize()"
   ],
   "metadata": {
    "collapsed": false,
    "pycharm": {
     "name": "#%%\n"
    }
   }
  },
  {
   "cell_type": "markdown",
   "source": [
    "# Trimming the first solution"
   ],
   "metadata": {
    "collapsed": false,
    "pycharm": {
     "name": "#%% md\n"
    }
   }
  },
  {
   "cell_type": "code",
   "execution_count": null,
   "outputs": [],
   "source": [],
   "metadata": {
    "collapsed": false,
    "pycharm": {
     "name": "#%%\n"
    }
   }
  },
  {
   "cell_type": "code",
   "execution_count": null,
   "outputs": [],
   "source": [
    "class Mouse:\n",
    "    \"\"\"Mouse to solve the maze\"\"\"\n",
    "    def __init__(self, maze):\n",
    "        self.X = 0 # current X position\n",
    "        self.Y = 0 # Current Y position\n",
    "        self.array_maze = maze.split(\"\\n\") # An array representation of the maze, mostly for display purposes.\n",
    "        self.visited = set() # Collection of visited coordinates\n",
    "        self.potential = [] # Positions where there was more then 1 possible path\n",
    "\n",
    "    def open_pos(self):\n",
    "        # Returns dictionary of possible openings\n",
    "        open_positions = []\n",
    "        num_positions = 0\n",
    "\n",
    "        for x, y in (self.X - 1, self.Y), (self.X, self.Y + 1), (self.X + 1, self.Y), (self.X, self.Y - 1):\n",
    "            if 0 <= x < len(self.array_maze) and 0 <= y <= len(self.array_maze):\n",
    "                if self.array_maze[x][y] != 'W':\n",
    "                    open_positions.append(x, y)\n",
    "                    num_positions += 1\n",
    "\n",
    "    def solve(self):\n",
    "        # Continue loop until at the exit of the maze\n",
    "        while self.X != len(self.array_maze) - 1 or self.Y != len(self.array_maze)-1:\n",
    "            open_spots, num_spots = self.open_pos()\n",
    "            # If there is more then 1 path, save the position\n",
    "            if num_spots > 1:\n",
    "                self.potential.append((self.X, self.Y))\n",
    "\n",
    "            southern_spot = open_spots['South']\n",
    "            eastern_spot = open_spots['East']\n",
    "            northern_spot = open_spots['North']\n",
    "            western_spot = open_spots['West']\n",
    "\n",
    "            # Since the Mouse starts in the upper left, and needs to reach the bottom right, always attempt to go SOUTH then EAST first.\n",
    "            if southern_spot:\n",
    "                self.visited.add((self.X, self.Y))\n",
    "                self.X += 1\n",
    "            else:\n",
    "                if eastern_spot:\n",
    "                    self.visited.add((self.X, self.Y))\n",
    "                    self.X -= 1\n",
    "                else:\n",
    "                    if northern_spot:\n",
    "                        self.visited.add((self.X, self.Y))\n",
    "                        self.Y += 1\n",
    "                    else:\n",
    "                        if western_spot:\n",
    "                            self.visited.add((self.X, self.Y))\n",
    "                            self.Y -= 1\n",
    "                        else:\n",
    "                            # If there are any POTENTIAL positions left revert to the last node with more then 1 branch\n",
    "                            if self.potential:\n",
    "                                self.visited.add((self.X, self.Y))\n",
    "                                reverting = self.potential.pop(-1)\n",
    "                                self.X = reverting[0]\n",
    "                                self.Y = reverting[1]\n",
    "                            else:\n",
    "                                # If no paths are available, and there are no more potential paths, the maze is unsolvable.\n",
    "                                self.visited.add((self.X, self.Y))\n",
    "                                return False\n",
    "        self.visited.add((self.X, self.Y))\n",
    "        return True\n",
    "\n",
    "    def visualize(self):\n",
    "        \"\"\"Method to visualize path taken\"\"\"\n",
    "        visited = self.visited\n",
    "        maze = self.array_maze\n",
    "        for items in visited:\n",
    "            maze[items[0]][items[1]] = 'X'\n",
    "        return maze\n",
    "\n",
    "def path_finder(maze):\n",
    "    # Instantiate object\n",
    "    mousey = Mouse()\n",
    "    mousey.create_arr_maze(maze)\n",
    "    # Solve Maze\n",
    "    return mousey.solve()"
   ],
   "metadata": {
    "collapsed": false,
    "pycharm": {
     "name": "#%%\n"
    }
   }
  }
 ],
 "metadata": {
  "kernelspec": {
   "display_name": "Python 3",
   "language": "python",
   "name": "python3"
  },
  "language_info": {
   "codemirror_mode": {
    "name": "ipython",
    "version": 2
   },
   "file_extension": ".py",
   "mimetype": "text/x-python",
   "name": "python",
   "nbconvert_exporter": "python",
   "pygments_lexer": "ipython2",
   "version": "2.7.6"
  }
 },
 "nbformat": 4,
 "nbformat_minor": 0
}