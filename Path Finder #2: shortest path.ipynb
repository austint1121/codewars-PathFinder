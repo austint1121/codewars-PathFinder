{
 "cells": [
  {
   "cell_type": "markdown",
   "metadata": {
    "collapsed": true,
    "pycharm": {
     "name": "#%% md\n"
    }
   },
   "source": [
    "# [Path Finder #2: shortest path](https://www.codewars.com/kata/57658bfa28ed87ecfa00058a/train/python)"
   ]
  },
  {
   "cell_type": "markdown",
   "source": [
    "## Task\n",
    "You are at position [0, 0] in maze NxN and you can only move in one of the four cardinal directions (i.e. North, East, South, West). Return the minimal number of steps to exit position [N-1, N-1] if it is possible to reach the exit from the starting position. Otherwise, return false.\n",
    "\n",
    "Empty positions are marked .. Walls are marked W. Start and exit positions are guaranteed to be empty in all test cases."
   ],
   "metadata": {
    "collapsed": false,
    "pycharm": {
     "name": "#%% md\n"
    }
   }
  },
  {
   "cell_type": "markdown",
   "source": [
    "## Solution\n",
    "\n",
    "This is a modification of the previous problem, now instead of just finding a solution, we need to find the **best** solution. The \"best\" being the shortest path we can take.\n",
    "\n",
    "We should be able to modify my code from before, to return the minimal steps to reach the exit."
   ],
   "metadata": {
    "collapsed": false,
    "pycharm": {
     "name": "#%% md\n"
    }
   }
  },
  {
   "cell_type": "code",
   "execution_count": 18,
   "outputs": [],
   "source": [
    "# Test cases\n",
    "a = \"\\n\".join([\n",
    "  \".W.\",\n",
    "  \".W.\",\n",
    "  \"...\"\n",
    "])\n",
    "\n",
    "b = \"\\n\".join([\n",
    "  \".W.\",\n",
    "  \".W.\",\n",
    "  \"W..\"\n",
    "])\n",
    "\n",
    "c = \"\\n\".join([\n",
    "  \"......\",\n",
    "  \"......\",\n",
    "  \"......\",\n",
    "  \"......\",\n",
    "  \"......\",\n",
    "  \"......\"\n",
    "])\n",
    "\n",
    "d = \"\\n\".join([\n",
    "  \"......\",\n",
    "  \"......\",\n",
    "  \"......\",\n",
    "  \"......\",\n",
    "  \".....W\",\n",
    "  \"....W.\"\n",
    "])"
   ],
   "metadata": {
    "collapsed": false,
    "pycharm": {
     "name": "#%%\n"
    }
   }
  },
  {
   "cell_type": "code",
   "source": [
    "class Mouse:\n",
    "    \"\"\"Mouse to solve the maze\"\"\"\n",
    "    def __init__(self, maze):\n",
    "        self.X = 0 # current X position\n",
    "        self.Y = 0 # Current Y position\n",
    "        self.array_maze = maze.split(\"\\n\") # An array representation of the maze, mostly for display purposes.\n",
    "        self.visited = set() # Collection of visited coordinates\n",
    "        self.potential = [] # Positions where there was more then 1 possible path\n",
    "        self.vis_array_maze = []\n",
    "\n",
    "    def open_pos(self):\n",
    "        # Returns list of possible openings\n",
    "        open_positions = []\n",
    "        num_positions = 0\n",
    "\n",
    "        # Loops through 4 possible movement directions\n",
    "        for x, y in (self.X + 1, self.Y), (self.X - 1, self.Y), (self.X, self.Y + 1),  (self.X, self.Y - 1):\n",
    "            # Checks that the potential position within bounds of the maze.\n",
    "            if 0 <= x < len(self.array_maze) and 0 <= y < len(self.array_maze):\n",
    "                # Checks that the potential position is not a wall, and has not been visited already.\n",
    "                if self.array_maze[x][y] != 'W' and (x, y) not in self.visited:\n",
    "                    open_positions.append((x, y))\n",
    "                    num_positions += 1\n",
    "        return open_positions, num_positions\n",
    "\n",
    "    def solve(self):\n",
    "        # Continue loop until at the exit of the maze\n",
    "        while self.X != len(self.array_maze) - 1 or self.Y != len(self.array_maze)-1:\n",
    "            open_spots, num_spots = self.open_pos()\n",
    "            # If there is more then 1 path, save the position\n",
    "            if num_spots > 1:\n",
    "                self.potential.append((self.X, self.Y))\n",
    "            # Check if there are any potential spots, and if so, move to them.\n",
    "            if open_spots:\n",
    "                self.visited.add((self.X, self.Y))\n",
    "                self.X, self.Y = open_spots[0]\n",
    "            else:\n",
    "                # If there are any POTENTIAL positions left revert to the last node with more then 1 branch\n",
    "                if self.potential:\n",
    "                    self.visited.add((self.X, self.Y))\n",
    "                    reverting = self.potential.pop(-1)\n",
    "                    self.X = reverting[0]\n",
    "                    self.Y = reverting[1]\n",
    "                else:\n",
    "                    # If no paths are available, and there are no more potential paths, the maze is unsolvable.\n",
    "                    self.visited.add((self.X, self.Y))\n",
    "                    return False\n",
    "        self.visited.add((self.X, self.Y))\n",
    "        return True\n",
    "    # --------------------------------------------------------------------------------------------------\n",
    "    # Visualization methods, to be removed later\n",
    "    def create_arr_maze(self):\n",
    "        \"\"\"Method to begin the loop to follow the maze\"\"\"\n",
    "        fsplit = self.array_maze\n",
    "        for items in fsplit: # Loop through split list and turn into an array\n",
    "            templist = []\n",
    "            for chars in items:\n",
    "                templist.append(chars)\n",
    "            self.vis_array_maze.append(templist)\n",
    "\n",
    "\n",
    "    def visualize(self):\n",
    "        \"\"\"Method to visualize path taken\"\"\"\n",
    "        visited = self.visited\n",
    "        maze = self.vis_array_maze\n",
    "        for items in visited:\n",
    "            maze[items[0]][items[1]] = 'X'\n",
    "        return maze\n",
    "\n",
    "def path_finder(maze):\n",
    "    # Instantiate object\n",
    "    mousey = Mouse(maze)\n",
    "    # Solve Maze\n",
    "    return mousey.solve()"
   ],
   "metadata": {
    "collapsed": false,
    "pycharm": {
     "name": "#%%\n"
    }
   },
   "execution_count": 21,
   "outputs": []
  },
  {
   "cell_type": "code",
   "execution_count": 22,
   "outputs": [
    {
     "data": {
      "text/plain": "True"
     },
     "execution_count": 22,
     "metadata": {},
     "output_type": "execute_result"
    }
   ],
   "source": [
    "path_finder(a)"
   ],
   "metadata": {
    "collapsed": false,
    "pycharm": {
     "name": "#%%\n"
    }
   }
  },
  {
   "cell_type": "code",
   "execution_count": 26,
   "outputs": [
    {
     "data": {
      "text/plain": "True"
     },
     "execution_count": 26,
     "metadata": {},
     "output_type": "execute_result"
    }
   ],
   "source": [
    "mousey = Mouse(a)\n",
    "mousey.solve()"
   ],
   "metadata": {
    "collapsed": false,
    "pycharm": {
     "name": "#%%\n"
    }
   }
  },
  {
   "cell_type": "code",
   "source": [
    "mousey.create_arr_maze()"
   ],
   "metadata": {
    "collapsed": false,
    "pycharm": {
     "name": "#%%\n"
    }
   },
   "execution_count": 27,
   "outputs": []
  },
  {
   "cell_type": "code",
   "execution_count": 30,
   "outputs": [
    {
     "name": "stdout",
     "output_type": "stream",
     "text": [
      "['X', 'W', '.']\n",
      "['X', 'W', '.']\n",
      "['X', 'X', 'X']\n"
     ]
    }
   ],
   "source": [
    "visi = mousey.visualize()\n",
    "for items in visi:\n",
    "    print(items)"
   ],
   "metadata": {
    "collapsed": false,
    "pycharm": {
     "name": "#%%\n"
    }
   }
  },
  {
   "cell_type": "code",
   "execution_count": null,
   "outputs": [],
   "source": [],
   "metadata": {
    "collapsed": false,
    "pycharm": {
     "name": "#%%\n"
    }
   }
  }
 ],
 "metadata": {
  "kernelspec": {
   "display_name": "Python 3",
   "language": "python",
   "name": "python3"
  },
  "language_info": {
   "codemirror_mode": {
    "name": "ipython",
    "version": 2
   },
   "file_extension": ".py",
   "mimetype": "text/x-python",
   "name": "python",
   "nbconvert_exporter": "python",
   "pygments_lexer": "ipython2",
   "version": "2.7.6"
  }
 },
 "nbformat": 4,
 "nbformat_minor": 0
}