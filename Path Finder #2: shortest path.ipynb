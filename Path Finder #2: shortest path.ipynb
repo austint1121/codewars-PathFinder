{
 "cells": [
  {
   "cell_type": "markdown",
   "metadata": {
    "collapsed": true,
    "pycharm": {
     "name": "#%% md\n"
    }
   },
   "source": [
    "# [Path Finder #2: shortest path](https://www.codewars.com/kata/57658bfa28ed87ecfa00058a/train/python)"
   ]
  },
  {
   "cell_type": "markdown",
   "source": [
    "## Task\n",
    "You are at position [0, 0] in maze NxN and you can only move in one of the four cardinal directions (i.e. North, East, South, West). Return the minimal number of steps to exit position [N-1, N-1] if it is possible to reach the exit from the starting position. Otherwise, return false.\n",
    "\n",
    "Empty positions are marked .. Walls are marked W. Start and exit positions are guaranteed to be empty in all test cases."
   ],
   "metadata": {
    "collapsed": false,
    "pycharm": {
     "name": "#%% md\n"
    }
   }
  },
  {
   "cell_type": "markdown",
   "source": [
    "## Solution\n",
    "\n",
    "This is a modification of the previous problem, now instead of just finding a solution, we need to find the **best** solution. The \"best\" being the shortest path we can take.\n",
    "\n",
    "We should be able to modify my code from before, to return the minimal steps to reach the exit."
   ],
   "metadata": {
    "collapsed": false,
    "pycharm": {
     "name": "#%% md\n"
    }
   }
  },
  {
   "cell_type": "code",
   "source": [
    "class Mouse:\n",
    "    \"\"\"Mouse to solve the maze\"\"\"\n",
    "    def __init__(self, maze):\n",
    "        self.X = 0 # current X position\n",
    "        self.Y = 0 # Current Y position\n",
    "        self.array_maze = maze.split(\"\\n\") # An array representation of the maze, mostly for display purposes.\n",
    "        self.visited = set() # Collection of visited coordinates\n",
    "        self.potential = [] # Positions where there was more then 1 possible path\n",
    "\n",
    "    def open_pos(self):\n",
    "        # Returns list of possible openings\n",
    "        open_positions = []\n",
    "        num_positions = 0\n",
    "\n",
    "        # Loops through 4 possible movement directions\n",
    "        for x, y in (self.X + 1, self.Y), (self.X - 1, self.Y), (self.X, self.Y + 1),  (self.X, self.Y - 1):\n",
    "            # Checks that the potential position within bounds of the maze.\n",
    "            if 0 <= x < len(self.array_maze) and 0 <= y < len(self.array_maze):\n",
    "                # Checks that the potential position is not a wall, and has not been visited already.\n",
    "                if self.array_maze[x][y] != 'W' and (x, y) not in self.visited:\n",
    "                    open_positions.append((x, y))\n",
    "                    num_positions += 1\n",
    "        return open_positions, num_positions\n",
    "\n",
    "    def solve(self):\n",
    "        # Continue loop until at the exit of the maze\n",
    "        while self.X != len(self.array_maze) - 1 or self.Y != len(self.array_maze)-1:\n",
    "            open_spots, num_spots = self.open_pos()\n",
    "            # If there is more then 1 path, save the position\n",
    "            if num_spots > 1:\n",
    "                self.potential.append((self.X, self.Y))\n",
    "            # Check if there are any potential spots, and if so, move to them.\n",
    "            if open_spots:\n",
    "                self.visited.add((self.X, self.Y))\n",
    "                self.X, self.Y = open_spots[0]\n",
    "            else:\n",
    "                # If there are any POTENTIAL positions left revert to the last node with more then 1 branch\n",
    "                if self.potential:\n",
    "                    self.visited.add((self.X, self.Y))\n",
    "                    reverting = self.potential.pop(-1)\n",
    "                    self.X = reverting[0]\n",
    "                    self.Y = reverting[1]\n",
    "                else:\n",
    "                    # If no paths are available, and there are no more potential paths, the maze is unsolvable.\n",
    "                    self.visited.add((self.X, self.Y))\n",
    "                    return False\n",
    "        self.visited.add((self.X, self.Y))\n",
    "        return True\n",
    "\n",
    "def path_finder(maze):\n",
    "    # Instantiate object\n",
    "    mousey = Mouse(maze)\n",
    "    # Solve Maze\n",
    "    return mousey.solve()"
   ],
   "metadata": {
    "collapsed": false,
    "pycharm": {
     "name": "#%%\n"
    }
   },
   "execution_count": null,
   "outputs": []
  }
 ],
 "metadata": {
  "kernelspec": {
   "display_name": "Python 3",
   "language": "python",
   "name": "python3"
  },
  "language_info": {
   "codemirror_mode": {
    "name": "ipython",
    "version": 2
   },
   "file_extension": ".py",
   "mimetype": "text/x-python",
   "name": "python",
   "nbconvert_exporter": "python",
   "pygments_lexer": "ipython2",
   "version": "2.7.6"
  }
 },
 "nbformat": 4,
 "nbformat_minor": 0
}